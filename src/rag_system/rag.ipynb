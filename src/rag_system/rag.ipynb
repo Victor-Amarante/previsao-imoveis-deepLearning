{
 "cells": [
  {
   "cell_type": "markdown",
   "metadata": {},
   "source": [
    "#### Carregar as bibliotecas"
   ]
  },
  {
   "cell_type": "code",
   "execution_count": 1,
   "metadata": {},
   "outputs": [],
   "source": [
    "from langchain_openai import ChatOpenAI, OpenAIEmbeddings\n",
    "from langchain.prompts import ChatPromptTemplate\n",
    "from langchain.text_splitter import RecursiveCharacterTextSplitter\n",
    "from langchain_community.document_loaders import CSVLoader\n",
    "from langchain_community.vectorstores import FAISS\n",
    "from langchain.chains.combine_documents import create_stuff_documents_chain\n",
    "from langchain.chains import create_retrieval_chain\n",
    "from langchain_core.output_parsers import StrOutputParser\n",
    "from dotenv import load_dotenv"
   ]
  },
  {
   "cell_type": "markdown",
   "metadata": {},
   "source": [
    "#### Carregar a variável de ambiente do OpenAI"
   ]
  },
  {
   "cell_type": "code",
   "execution_count": 2,
   "metadata": {},
   "outputs": [
    {
     "data": {
      "text/plain": [
       "True"
      ]
     },
     "execution_count": 2,
     "metadata": {},
     "output_type": "execute_result"
    }
   ],
   "source": [
    "load_dotenv()"
   ]
  },
  {
   "cell_type": "markdown",
   "metadata": {},
   "source": [
    "#### Configuração inicial do modelo que ser utilizado"
   ]
  },
  {
   "cell_type": "code",
   "execution_count": 3,
   "metadata": {},
   "outputs": [],
   "source": [
    "llm = ChatOpenAI(temperature=0, model=\"gpt-4o-mini\")"
   ]
  },
  {
   "cell_type": "markdown",
   "metadata": {},
   "source": [
    "#### Carregar o primeiro arquivo CSV"
   ]
  },
  {
   "cell_type": "markdown",
   "metadata": {},
   "source": [
    "Esse arquivo CSV possui informações sobre as propriedades de imóveis em São Paulo. Ele contém informações como endereço, nome, latitude e longitude, tipo de imóvel, distrito, etc. Essas informações são utilizadas para criar um banco de dados vetorial e armazenar as propriedades de imóveis em um banco de dados vetorial."
   ]
  },
  {
   "cell_type": "code",
   "execution_count": 4,
   "metadata": {},
   "outputs": [
    {
     "name": "stdout",
     "output_type": "stream",
     "text": [
      "13640\n"
     ]
    }
   ],
   "source": [
    "loader_properties = CSVLoader(\"/Users/victor/Desktop/projects/previsao-precos-imoveis-dl/data/sao-paulo-properties.csv\")\n",
    "docs_properties = loader_properties.load()\n",
    "print(len(docs_properties))"
   ]
  },
  {
   "cell_type": "markdown",
   "metadata": {},
   "source": [
    "Esse arquivo CSV possui informações sobre os estabelecimentos próximos dos imóveis em São Paulo"
   ]
  },
  {
   "cell_type": "code",
   "execution_count": 5,
   "metadata": {},
   "outputs": [
    {
     "name": "stdout",
     "output_type": "stream",
     "text": [
      "8352\n"
     ]
    }
   ],
   "source": [
    "loader_places = CSVLoader(\"/Users/victor/Desktop/projects/previsao-precos-imoveis-dl/data/places_data.csv\")\n",
    "docs_places = loader_places.load()\n",
    "print(len(docs_places))"
   ]
  },
  {
   "cell_type": "markdown",
   "metadata": {},
   "source": [
    "#### Carregando o modelo de embeddings que será utilizado"
   ]
  },
  {
   "cell_type": "code",
   "execution_count": 6,
   "metadata": {},
   "outputs": [],
   "source": [
    "embeddings = OpenAIEmbeddings()"
   ]
  },
  {
   "cell_type": "markdown",
   "metadata": {},
   "source": [
    "#### Unido as duas bases de dados em uma única lista de documentos"
   ]
  },
  {
   "cell_type": "code",
   "execution_count": 7,
   "metadata": {},
   "outputs": [],
   "source": [
    "data = docs_properties + docs_places"
   ]
  },
  {
   "cell_type": "markdown",
   "metadata": {},
   "source": [
    "Verificando os 10 primeiros elementos da lista"
   ]
  },
  {
   "cell_type": "code",
   "execution_count": 8,
   "metadata": {},
   "outputs": [
    {
     "data": {
      "text/plain": [
       "[Document(metadata={'source': '/Users/victor/Desktop/projects/previsao-precos-imoveis-dl/data/sao-paulo-properties.csv', 'row': 0}, page_content='Price: 930\\nCondo: 220\\nSize: 47\\nRooms: 2\\nToilets: 2\\nSuites: 1\\nParking: 1\\nElevator: 0\\nFurnished: 0\\nSwimming Pool: 0\\nNew: 0\\nDistrict: Artur Alvim/São Paulo\\nNegotiation Type: rent\\nProperty Type: apartment\\nLatitude: -23.543138\\nLongitude: -46.479486'),\n",
       " Document(metadata={'source': '/Users/victor/Desktop/projects/previsao-precos-imoveis-dl/data/sao-paulo-properties.csv', 'row': 1}, page_content='Price: 1000\\nCondo: 148\\nSize: 45\\nRooms: 2\\nToilets: 2\\nSuites: 1\\nParking: 1\\nElevator: 0\\nFurnished: 0\\nSwimming Pool: 0\\nNew: 0\\nDistrict: Artur Alvim/São Paulo\\nNegotiation Type: rent\\nProperty Type: apartment\\nLatitude: -23.550239\\nLongitude: -46.480718'),\n",
       " Document(metadata={'source': '/Users/victor/Desktop/projects/previsao-precos-imoveis-dl/data/sao-paulo-properties.csv', 'row': 2}, page_content='Price: 1000\\nCondo: 100\\nSize: 48\\nRooms: 2\\nToilets: 2\\nSuites: 1\\nParking: 1\\nElevator: 0\\nFurnished: 0\\nSwimming Pool: 0\\nNew: 0\\nDistrict: Artur Alvim/São Paulo\\nNegotiation Type: rent\\nProperty Type: apartment\\nLatitude: -23.542818\\nLongitude: -46.485665'),\n",
       " Document(metadata={'source': '/Users/victor/Desktop/projects/previsao-precos-imoveis-dl/data/sao-paulo-properties.csv', 'row': 3}, page_content='Price: 1000\\nCondo: 200\\nSize: 48\\nRooms: 2\\nToilets: 2\\nSuites: 1\\nParking: 1\\nElevator: 0\\nFurnished: 0\\nSwimming Pool: 0\\nNew: 0\\nDistrict: Artur Alvim/São Paulo\\nNegotiation Type: rent\\nProperty Type: apartment\\nLatitude: -23.547171\\nLongitude: -46.483014'),\n",
       " Document(metadata={'source': '/Users/victor/Desktop/projects/previsao-precos-imoveis-dl/data/sao-paulo-properties.csv', 'row': 4}, page_content='Price: 1300\\nCondo: 410\\nSize: 55\\nRooms: 2\\nToilets: 2\\nSuites: 1\\nParking: 1\\nElevator: 1\\nFurnished: 0\\nSwimming Pool: 0\\nNew: 0\\nDistrict: Artur Alvim/São Paulo\\nNegotiation Type: rent\\nProperty Type: apartment\\nLatitude: -23.525025\\nLongitude: -46.482436'),\n",
       " Document(metadata={'source': '/Users/victor/Desktop/projects/previsao-precos-imoveis-dl/data/sao-paulo-properties.csv', 'row': 5}, page_content='Price: 1170\\nCondo: 0\\nSize: 50\\nRooms: 2\\nToilets: 2\\nSuites: 1\\nParking: 1\\nElevator: 0\\nFurnished: 0\\nSwimming Pool: 0\\nNew: 0\\nDistrict: Artur Alvim/São Paulo\\nNegotiation Type: rent\\nProperty Type: apartment\\nLatitude: -23.548751\\nLongitude: -46.477195'),\n",
       " Document(metadata={'source': '/Users/victor/Desktop/projects/previsao-precos-imoveis-dl/data/sao-paulo-properties.csv', 'row': 6}, page_content='Price: 1000\\nCondo: 180\\nSize: 52\\nRooms: 1\\nToilets: 2\\nSuites: 1\\nParking: 1\\nElevator: 1\\nFurnished: 0\\nSwimming Pool: 0\\nNew: 0\\nDistrict: Artur Alvim/São Paulo\\nNegotiation Type: rent\\nProperty Type: apartment\\nLatitude: -23.54984\\nLongitude: -46.484137'),\n",
       " Document(metadata={'source': '/Users/victor/Desktop/projects/previsao-precos-imoveis-dl/data/sao-paulo-properties.csv', 'row': 7}, page_content='Price: 900\\nCondo: 150\\nSize: 40\\nRooms: 2\\nToilets: 2\\nSuites: 1\\nParking: 1\\nElevator: 0\\nFurnished: 0\\nSwimming Pool: 0\\nNew: 0\\nDistrict: Artur Alvim/São Paulo\\nNegotiation Type: rent\\nProperty Type: apartment\\nLatitude: -23.53974\\nLongitude: -46.49267'),\n",
       " Document(metadata={'source': '/Users/victor/Desktop/projects/previsao-precos-imoveis-dl/data/sao-paulo-properties.csv', 'row': 8}, page_content='Price: 1000\\nCondo: 0\\nSize: 65\\nRooms: 2\\nToilets: 2\\nSuites: 1\\nParking: 1\\nElevator: 0\\nFurnished: 0\\nSwimming Pool: 0\\nNew: 0\\nDistrict: Artur Alvim/São Paulo\\nNegotiation Type: rent\\nProperty Type: apartment\\nLatitude: -23.548751\\nLongitude: -46.477195'),\n",
       " Document(metadata={'source': '/Users/victor/Desktop/projects/previsao-precos-imoveis-dl/data/sao-paulo-properties.csv', 'row': 9}, page_content='Price: 1000\\nCondo: 0\\nSize: 100\\nRooms: 2\\nToilets: 2\\nSuites: 1\\nParking: 1\\nElevator: 0\\nFurnished: 0\\nSwimming Pool: 0\\nNew: 0\\nDistrict: Artur Alvim/São Paulo\\nNegotiation Type: rent\\nProperty Type: apartment\\nLatitude: -23.548751\\nLongitude: -46.477195')]"
      ]
     },
     "execution_count": 8,
     "metadata": {},
     "output_type": "execute_result"
    }
   ],
   "source": [
    "data[0:10]"
   ]
  },
  {
   "cell_type": "markdown",
   "metadata": {},
   "source": [
    "Verificando os últimos elementos da lista"
   ]
  },
  {
   "cell_type": "code",
   "execution_count": 9,
   "metadata": {},
   "outputs": [
    {
     "data": {
      "text/plain": [
       "[Document(metadata={'source': '/Users/victor/Desktop/projects/previsao-precos-imoveis-dl/data/places_data.csv', 'row': 8347}, page_content='id: ChIJDTs9i6hfzpQRb-Is73VFIs0\\naddress: R. Demétrio Ribeiro, 137 - Água Rasa, São Paulo\\nname: Auto Posto Petrowan\\nlatitude: -23.5525894\\nlongitude: -46.5776348\\ngoogleMapsUri: https://www.google.com/maps/place//data=!4m3!3m2!1s0x94ce5fa88b3d3b0d:0xcd224575ef2ce26f!10e5\\nwebsiteUri: \\ntype: gas_station\\ndistrict: Água Rasa São Paulo'),\n",
       " Document(metadata={'source': '/Users/victor/Desktop/projects/previsao-precos-imoveis-dl/data/places_data.csv', 'row': 8348}, page_content='id: ChIJmyyKzyBczpQRNbWyAoIxTqU\\naddress: R. Miguel Mota, 170 - Água Rasa, São Paulo\\nname: Petrobras\\nlatitude: -23.565604\\nlongitude: -46.5698324\\ngoogleMapsUri: https://www.google.com/maps/place//data=!4m3!3m2!1s0x94ce5c20cf8a2c9b:0xa54e318202b2b535!10e5\\nwebsiteUri: https://www.postospetrobras.com.br/buscar-postos\\ntype: gas_station\\ndistrict: Água Rasa São Paulo'),\n",
       " Document(metadata={'source': '/Users/victor/Desktop/projects/previsao-precos-imoveis-dl/data/places_data.csv', 'row': 8349}, page_content='id: ChIJTcM5U7FezpQRw-nVCfeCCsw\\naddress: R. Itaqueri, 1037 - Água Rasa, São Paulo\\nname: Ipiran\\nlatitude: -23.5560056\\nlongitude: -46.5881277\\ngoogleMapsUri: https://www.google.com/maps/place//data=!4m3!3m2!1s0x94ce5eb15339c34d:0xcc0a82f709d5e9c3!10e5\\nwebsiteUri: \\ntype: gas_station\\ndistrict: Água Rasa São Paulo'),\n",
       " Document(metadata={'source': '/Users/victor/Desktop/projects/previsao-precos-imoveis-dl/data/places_data.csv', 'row': 8350}, page_content='id: ChIJLYVS4KFezpQRU5jSbjliQA0\\naddress: Av. Sapopemba, 579 - Água Rasa, São Paulo\\nname: Branca\\nlatitude: -23.561702\\nlongitude: -46.5741728\\ngoogleMapsUri: https://www.google.com/maps/place//data=!4m3!3m2!1s0x94ce5ea1e052852d:0xd4062396ed29853!10e5\\nwebsiteUri: \\ntype: gas_station\\ndistrict: Água Rasa São Paulo'),\n",
       " Document(metadata={'source': '/Users/victor/Desktop/projects/previsao-precos-imoveis-dl/data/places_data.csv', 'row': 8351}, page_content='id: ChIJ9Yv4o6NezpQRbfH1E8J09KM\\naddress: Av. Salim Farah Maluf, 3400 - Água Rasa, São Paulo\\nname: Branca\\nlatitude: -23.559707\\nlongitude: -46.577375\\ngoogleMapsUri: https://www.google.com/maps/place//data=!4m3!3m2!1s0x94ce5ea3a3f88bf5:0xa3f474c213f5f16d!10e5\\nwebsiteUri: \\ntype: gas_station\\ndistrict: Água Rasa São Paulo')]"
      ]
     },
     "execution_count": 9,
     "metadata": {},
     "output_type": "execute_result"
    }
   ],
   "source": [
    "data[-5:]"
   ]
  },
  {
   "cell_type": "markdown",
   "metadata": {},
   "source": [
    "#### Confirmando o formato da lista para que possamos inserir dentro do banco de dados vetorial"
   ]
  },
  {
   "cell_type": "code",
   "execution_count": 10,
   "metadata": {},
   "outputs": [
    {
     "data": {
      "text/plain": [
       "list"
      ]
     },
     "execution_count": 10,
     "metadata": {},
     "output_type": "execute_result"
    }
   ],
   "source": [
    "type(data)"
   ]
  },
  {
   "cell_type": "markdown",
   "metadata": {},
   "source": [
    "#### Banco de dados vetorial - FAISS"
   ]
  },
  {
   "cell_type": "code",
   "execution_count": 11,
   "metadata": {},
   "outputs": [],
   "source": [
    "vectordb = FAISS.from_documents(data, embeddings)\n",
    "retriever = vectordb.as_retriever()"
   ]
  },
  {
   "cell_type": "markdown",
   "metadata": {},
   "source": [
    "#### Criação do prompt template para ser utilizado na conversa"
   ]
  },
  {
   "cell_type": "code",
   "execution_count": 12,
   "metadata": {},
   "outputs": [],
   "source": [
    "prompt = ChatPromptTemplate.from_template(\n",
    "    \"\"\" \n",
    "    Você é um assistente especializado em recomendação de imóveis com base na proximidade de estabelecimentos relevantes. Sempre mencione uma lista de imóveis recomendados.\n",
    "    Há duas bases de dados:\n",
    "    - **Base de dados sobre Imóveis**: Contém informações sobre os imóveis disponíveis, como número de quartos, vagas de garagem, tamanho, e localização.\n",
    "    - **Base de dados sobre Estabelecimentos**: Contém a localização de escolas, farmácias, hospitais, supermercados e outros pontos de interesse.\n",
    "\n",
    "    **Instruções:**\n",
    "    - Utilize apenas as informações dos arquivos CSV carregados para responder.\n",
    "    - Priorize a proximidade entre estabelecimentos e imóveis para sugerir a melhor opção.\n",
    "    - Se o usuário mencionar necessidades específicas (como ter filhos pequenos), priorize escolas e farmácias próximas.\n",
    "    - Caso não encontre informações suficientes, informe que não sabe.\n",
    "\n",
    "    **Contexto fornecido:**\n",
    "    {context}\n",
    "\n",
    "    **Pergunta do usuário:**\n",
    "    {input}\n",
    "    \"\"\"\n",
    "    )"
   ]
  },
  {
   "cell_type": "markdown",
   "metadata": {},
   "source": [
    "#### Chain"
   ]
  },
  {
   "cell_type": "code",
   "execution_count": 13,
   "metadata": {},
   "outputs": [],
   "source": [
    "documents_chain = create_stuff_documents_chain(llm, prompt)\n",
    "retrieval_chain = create_retrieval_chain(retriever, documents_chain)"
   ]
  },
  {
   "cell_type": "markdown",
   "metadata": {},
   "source": [
    "#### Função para que o usuário possa interagir com a base de dados"
   ]
  },
  {
   "cell_type": "code",
   "execution_count": 14,
   "metadata": {},
   "outputs": [],
   "source": [
    "def ask_real_estate_question(question: str):\n",
    "  response = retrieval_chain.invoke({\"input\": question})\n",
    "  print(response[\"answer\"]) "
   ]
  },
  {
   "cell_type": "code",
   "execution_count": 15,
   "metadata": {},
   "outputs": [
    {
     "name": "stdout",
     "output_type": "stream",
     "text": [
      "Para atender à sua necessidade de encontrar um apartamento na Vila Mariana com escolas próximas, aqui estão algumas opções de escolas na região:\n",
      "\n",
      "1. **Escola Infantil Pequenos Pensadores**\n",
      "   - Endereço: R. Dr. Fabrício Vampré, 302 - Vila Mariana, São Paulo\n",
      "   - [Google Maps](https://www.google.com/maps/place//data=!4m3!3m2!1s0x94ce59860a301f37:0x8e69ce4d1c96fee9!10e5)\n",
      "   - [Website](https://www.escolapequenospensadores.com.br/)\n",
      "\n",
      "2. **Escola do Bairro**\n",
      "   - Endereço: R. Joaquim Távora, 1548 - e 1568 - Vila Mariana, São Paulo\n",
      "   - [Google Maps](https://www.google.com/maps/place//data=!4m3!3m2!1s0x94ce598bcba5f0ff:0xdc073a5ede24ebaa!10e5)\n",
      "   - [Website](http://www.escoladobairro.com/)\n",
      "\n",
      "3. **Colégio Batista Brasil Vila Mariana**\n",
      "   - Endereço: R. Joaquim Távora, 618 - Vila Mariana, São Paulo\n",
      "   - [Google Maps](https://www.google.com/maps/place//data=!4m3!3m2!1s0x94ce5986fa049333:0xd23fd2562f247258!10e5)\n",
      "   - [Website](https://colegiobatistabrasil.com/)\n",
      "\n",
      "4. **Escola Shekinah - Unidade Vila Mariana**\n",
      "   - Endereço: R. Joaquim Távora, 1380 - Vila Mariana, São Paulo\n",
      "   - [Google Maps](https://www.google.com/maps/place//data=!4m3!3m2!1s0x94ce597ff8c1946d:0xa78045df86062738!10e5)\n",
      "   - [Website](http://escolashekinah.com.br/)\n",
      "\n",
      "Agora, para recomendar apartamentos, preciso de informações sobre os imóveis disponíveis na região da Vila Mariana. Se você puder fornecer detalhes sobre o que está procurando (número de quartos, vagas de garagem, etc.), ficarei feliz em ajudar!\n"
     ]
    }
   ],
   "source": [
    "ask_real_estate_question(\"Tenho um filho pequeno e procuro um apartamento com escolas por perto na região da Vila Mariana.\")"
   ]
  },
  {
   "cell_type": "code",
   "execution_count": 16,
   "metadata": {},
   "outputs": [
    {
     "name": "stdout",
     "output_type": "stream",
     "text": [
      "Com base nas suas necessidades de ter um apartamento para uma família com 2 filhos pequenos e espaço para 2 carros, aqui estão as opções de imóveis disponíveis que se encaixam no seu orçamento de até 300.000 reais:\n",
      "\n",
      "1. **Apartamento em Parque do Carmo/São Paulo**\n",
      "   - **Preço:** R$ 225.000\n",
      "   - **Condomínio:** R$ 300\n",
      "   - **Tamanho:** 50 m²\n",
      "   - **Quartos:** 2\n",
      "   - **Suítes:** 1\n",
      "   - **Vagas de Garagem:** 1\n",
      "   - **Elevador:** Não\n",
      "   - **Mobiliado:** Sim\n",
      "   - **Tipo de Negociação:** Venda\n",
      "\n",
      "2. **Apartamento em Parque do Carmo/São Paulo**\n",
      "   - **Preço:** R$ 220.000\n",
      "   - **Condomínio:** R$ 300\n",
      "   - **Tamanho:** 50 m²\n",
      "   - **Quartos:** 2\n",
      "   - **Suítes:** 1\n",
      "   - **Vagas de Garagem:** 1\n",
      "   - **Elevador:** Não\n",
      "   - **Mobiliado:** Não\n",
      "   - **Tipo de Negociação:** Venda\n",
      "\n",
      "Infelizmente, ambos os apartamentos listados têm apenas 1 vaga de garagem, o que não atende à sua necessidade de espaço para 2 carros. \n",
      "\n",
      "Infelizmente, não encontrei imóveis que atendam a todas as suas necessidades específicas. Se você estiver disposto a considerar opções com apenas 1 vaga de garagem ou se tiver outras preferências, por favor, me avise!\n"
     ]
    }
   ],
   "source": [
    "ask_real_estate_question(\"\"\"Preciso de um apartamento para minha família com 2 filhos pequenos. Temos 2 carros então precisamos ter um imóvel com espaço para ambos os carros. \n",
    "                         Qual seria a sua recomendação de até 300.000 reais?\"\"\")"
   ]
  },
  {
   "cell_type": "code",
   "execution_count": 17,
   "metadata": {},
   "outputs": [
    {
     "name": "stdout",
     "output_type": "stream",
     "text": [
      "Para encontrar a melhor recomendação de imóvel considerando a proximidade das escolas e do local de trabalho da sua esposa, vamos analisar as informações disponíveis.\n",
      "\n",
      "### Estabelecimentos relevantes:\n",
      "1. **Escolas**:\n",
      "   - **Coala Kids - Berçário - Escola Infantil - Sistema de Ensino Objetivo**\n",
      "     - Endereço: Rua Kaoru Oda, 43 - Vila Sonia, São Paulo\n",
      "     - Coordenadas: -23.5857802, -46.7408414\n",
      "     - [Google Maps](https://www.google.com/maps/place//data=!4m3!3m2!1s0x94ce5687714183af:0x9846b2ef86243e58!10e5)\n",
      "\n",
      "   - **Escola de Educação Infantil Girafinha Kids**\n",
      "     - Endereço: R. Dias Vieira, 313 - Vila Sonia, São Paulo\n",
      "     - Coordenadas: -23.5965581, -46.7318895\n",
      "     - [Google Maps](https://www.google.com/maps/place//data=!4m3!3m2!1s0x94ce57e59c30376f:0xeec6d42f154c5562!10e5)\n",
      "\n",
      "2. **Local de trabalho da sua esposa**:\n",
      "   - Coordenadas: -23.525464, -46.562212\n",
      "\n",
      "### Análise de imóveis disponíveis:\n",
      "- **Casa do Norte Lageado**\n",
      "  - Endereço: Estr. do Lageado Velho, 752 - Guaianases, São Paulo\n",
      "  - Coordenadas: -23.5357622, -46.4019413\n",
      "  - [Google Maps](https://www.google.com/maps/place//data=!4m3!3m2!1s0x94ce650ae67a3d2d:0xfa918b9cf6a3873d!10e5)\n",
      "\n",
      "### Proximidade:\n",
      "- A **Casa do Norte Lageado** está localizada a aproximadamente 6.5 km do local de trabalho da sua esposa e a cerca de 5.5 km das escolas mencionadas. \n",
      "\n",
      "### Recomendação:\n",
      "Considerando a proximidade das escolas e do local de trabalho da sua esposa, a **Casa do Norte Lageado** é a melhor opção disponível. \n",
      "\n",
      "Se precisar de mais informações ou de outras opções, por favor, me avise!\n"
     ]
    }
   ],
   "source": [
    "ask_real_estate_question(\"\"\"Trabalho nas coordenadas latitude: -23.5660935, longitude: -46.6372631. \n",
    "                         Qual seria a melhor recomendação de imóvel considerando que meus filhos estudam nas coordenadas latitude: -23.560846, longitude: -46.604266 e\n",
    "                         minha esposa trabalha em latitude: -23.525464, longitude: -46.562212\"\"\")"
   ]
  },
  {
   "cell_type": "markdown",
   "metadata": {},
   "source": [
    "## Testes com Personas"
   ]
  },
  {
   "cell_type": "markdown",
   "metadata": {},
   "source": [
    "### Persona 1 - João, o profissional com família pequena"
   ]
  },
  {
   "cell_type": "code",
   "execution_count": 18,
   "metadata": {},
   "outputs": [
    {
     "name": "stdout",
     "output_type": "stream",
     "text": [
      "Com base nas suas necessidades, aqui estão algumas recomendações de imóveis que atendem aos seus critérios:\n",
      "\n",
      "1. **Casa Nova**\n",
      "   - **Endereço:** Av. João dos Santos Abreu, 613 - Vila Espanhola, São Paulo\n",
      "   - **Quartos:** 3 (ideal para sua filha e escritório)\n",
      "   - **Banheiros:** 2 (conforto para a família)\n",
      "   - **Proximidade de Estabelecimentos:**\n",
      "     - **Escola:** Vila dos Baixinhos - Escola de Educação Infantil (Rua Dr. SÍlvio Dante Bertacchi, 644 - Vila Sônia) - [Google Maps](https://www.google.com/maps/place//data=!4m3!3m2!1s0x94ce569424117851:0xccdaf5d588be923e!10e5)\n",
      "     - **Mercado:** Casa Nova (mercado próximo)\n",
      "     - **Farmácia:** Não especificada, mas a região possui opções.\n",
      "     - **Academia:** Estação Vila Sônia Fitness (Rua Guanás, 690 - Vila Sonia) - [Google Maps](https://www.google.com/maps/place//data=!4m3!3m2!1s0x94ce569429d407a3:0xef51a5e3d9d395a7!10e5)\n",
      "   - **Posto de Gasolina:** Verifique na região, mas há opções nas proximidades.\n",
      "   - **Segurança:** Bairro considerado seguro.\n",
      "\n",
      "   [Ver no Google Maps](https://www.google.com/maps/place//data=!4m3!3m2!1s0x94cef77f1aaba653:0x20c9ee8535de5c6a!10e5)\n",
      "\n",
      "2. **Casa do Norte Lageado**\n",
      "   - **Endereço:** Estr. do Lageado Velho, 752 - Guaianases, São Paulo\n",
      "   - **Quartos:** 3 (ideal para sua filha e escritório)\n",
      "   - **Banheiros:** 2 (conforto para a família)\n",
      "   - **Proximidade de Estabelecimentos:**\n",
      "     - **Escola:** Não especificada, mas a região possui opções.\n",
      "     - **Mercado:** Casa do Norte Lageado (mercado próximo)\n",
      "     - **Farmácia:** Não especificada, mas a região possui opções.\n",
      "     - **Academia:** Não especificada, mas a região possui opções.\n",
      "   - **Posto de Gasolina:** Verifique na região, mas há opções nas proximidades.\n",
      "   - **Segurança:** Bairro considerado seguro.\n",
      "\n",
      "   [Ver no Google Maps](https://www.google.com/maps/place//data=!4m3!3m2!1s0x94ce650ae67a3d2d:0xfa918b9cf6a3873d!10e5)\n",
      "\n",
      "Essas opções atendem às suas necessidades de espaço, conforto e proximidade de estabelecimentos relevantes. Recomendo que você visite os locais para verificar a adequação ao seu estilo de vida. Se precisar de mais informações ou de outras opções, estou à disposição!\n"
     ]
    }
   ],
   "source": [
    "ask_real_estate_question(\"\"\"\n",
    "                         Tenho 1 filha, que estuda na escola que fica em (lat:-23.560846, lon:-46.604266), minha esposa trabalha em (lat:-23.5660935, lon:-46.6372631) e eu trabalho remotamente, \n",
    "                         então preciso de um ambiente silencioso e com boa conexão de internet. A casa deve ter pelo menos 3 quartos para que minha filha tenha um espaço próprio \n",
    "                         e eu possa montar um escritório. Também preciso de pelo menos 2 banheiros para mais conforto. Temos 1 carro, então um posto de gasolina próximo seria ideal. \n",
    "                         Além disso, buscamos um bairro seguro e com mercado e farmácia a uma distância acessível. Gostamos de praticar esportes, então a presença de uma academia e \n",
    "                         um parque na região é essencial.\n",
    "                         \"\"\")"
   ]
  },
  {
   "cell_type": "markdown",
   "metadata": {},
   "source": [
    "### Persona 2 - Mariana, a jovem profissional independente"
   ]
  },
  {
   "cell_type": "code",
   "execution_count": 19,
   "metadata": {},
   "outputs": [
    {
     "name": "stdout",
     "output_type": "stream",
     "text": [
      "Com base nas suas necessidades e preferências, aqui estão algumas opções de imóveis que podem atender ao seu perfil:\n",
      "\n",
      "### Imóveis Recomendados:\n",
      "\n",
      "1. **Apartamento em Sacomã**\n",
      "   - **Preço:** R$ 1.000\n",
      "   - **Condomínio:** R$ 0\n",
      "   - **Tamanho:** 35 m²\n",
      "   - **Quartos:** 1\n",
      "   - **Banheiros:** 2\n",
      "   - **Suites:** 1\n",
      "   - **Vagas de Garagem:** 1\n",
      "   - **Elevador:** Não\n",
      "   - **Piscina:** Sim\n",
      "   - **Localização:** Sacomã/São Paulo\n",
      "   - **Proximidade:** Verifique a proximidade de transporte público, restaurantes e academias.\n",
      "\n",
      "2. **Apartamento em Sacomã**\n",
      "   - **Preço:** R$ 1.000\n",
      "   - **Condomínio:** R$ 455\n",
      "   - **Tamanho:** 70 m²\n",
      "   - **Quartos:** 1\n",
      "   - **Banheiros:** 2\n",
      "   - **Suites:** 1\n",
      "   - **Vagas de Garagem:** 1\n",
      "   - **Elevador:** Sim\n",
      "   - **Piscina:** Não\n",
      "   - **Localização:** Sacomã/São Paulo\n",
      "   - **Proximidade:** Verifique a proximidade de transporte público, restaurantes e academias.\n",
      "\n",
      "3. **Apartamento em Saúde**\n",
      "   - **Preço:** R$ 1.000\n",
      "   - **Condomínio:** R$ 425\n",
      "   - **Tamanho:** 63 m²\n",
      "   - **Quartos:** 3\n",
      "   - **Banheiros:** 1\n",
      "   - **Suites:** 0\n",
      "   - **Vagas de Garagem:** 1\n",
      "   - **Elevador:** Não\n",
      "   - **Piscina:** Não\n",
      "   - **Localização:** Saúde/São Paulo\n",
      "   - **Proximidade:** Verifique a proximidade de transporte público, restaurantes e academias.\n",
      "\n",
      "4. **Apartamento em Sacomã**\n",
      "   - **Preço:** R$ 1.000\n",
      "   - **Condomínio:** R$ 455\n",
      "   - **Tamanho:** 41 m²\n",
      "   - **Quartos:** 1\n",
      "   - **Banheiros:** 1\n",
      "   - **Suites:** 0\n",
      "   - **Vagas de Garagem:** 1\n",
      "   - **Elevador:** Não\n",
      "   - **Piscina:** Não\n",
      "   - **Localização:** Sacomã/São Paulo\n",
      "   - **Proximidade:** Verifique a proximidade de transporte público, restaurantes e academias.\n",
      "\n",
      "### Considerações:\n",
      "- Todos os imóveis estão localizados em Sacomã e Saúde, que são bairros com acesso a transporte público e opções de comércio.\n",
      "- É importante verificar a proximidade de academias, restaurantes e mercados em cada uma das opções.\n",
      "- A maioria dos apartamentos tem vaga de garagem, o que atende à sua necessidade de ter um carro.\n",
      "\n",
      "Se precisar de mais informações ou de ajuda para visitar algum desses imóveis, estou à disposição!\n"
     ]
    }
   ],
   "source": [
    "ask_real_estate_question(\"\"\"\n",
    "                         Sou solteira e trabalho em (lat: -23.563738, lon: -46.653761), então preciso de um imóvel bem localizado, preferencialmente perto de transporte público ou com vaga de garagem para o meu carro. Como trabalho muitas horas por dia, \n",
    "                         priorizo um apartamento compacto, mas funcional, com 1 ou 2 quartos e 1 banheiro. Não cozinho muito, então gostaria que houvesse restaurantes e mercados próximos. Também me preocupo com minha saúde, então uma academia próxima seria um diferencial.\n",
    "                         Nos fins de semana, gosto de sair para cafés e eventos culturais, então morar em um bairro com opções de lazer e vida noturna seria ideal.\n",
    "                         \"\"\")"
   ]
  }
 ],
 "metadata": {
  "kernelspec": {
   "display_name": "venv",
   "language": "python",
   "name": "python3"
  },
  "language_info": {
   "codemirror_mode": {
    "name": "ipython",
    "version": 3
   },
   "file_extension": ".py",
   "mimetype": "text/x-python",
   "name": "python",
   "nbconvert_exporter": "python",
   "pygments_lexer": "ipython3",
   "version": "3.13.2"
  }
 },
 "nbformat": 4,
 "nbformat_minor": 2
}
